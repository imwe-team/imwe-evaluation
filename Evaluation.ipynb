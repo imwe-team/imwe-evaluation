{
 "cells": [
  {
   "cell_type": "code",
   "execution_count": 1,
   "metadata": {
    "collapsed": false
   },
   "outputs": [
    {
     "name": "stdout",
     "output_type": "stream",
     "text": [
      "Using matplotlib backend: Qt4Agg\n"
     ]
    }
   ],
   "source": [
    "#!/usr/bin/env python2\n",
    "# -*- coding:utf-8 -*-\n",
    "\"\"\"\n",
    "evaluate IMWe survey\n",
    "\"\"\"\n",
    "\n",
    "from __future__ import print_function, division\n",
    "\n",
    "from os import path\n",
    "import codecs\n",
    "import unicodedata\n",
    "import os\n",
    "import subprocess\n",
    "from datetime import date\n",
    "import sys\n",
    "import numpy as np\n",
    "import csv\n",
    "import pandas as pd\n",
    "from StringIO import StringIO\n",
    "\n",
    "__author__ = 'jbuss'\n",
    "\n",
    "\n",
    "base_folder = path.join(\"/home/jbuss/VCP/IMWe/2015/Eval\")\n",
    "PC_num_ind  = path.join(base_folder, \"PC_num_ind.csv\")\n",
    "PC_txt_ind  = path.join(base_folder, \"PC_txt_in.csv\")\n",
    "\n",
    "TEAM_num_ind  = path.join(base_folder, \"TEAM_num_ind.csv\")\n",
    "TEAM_txt_ind  = path.join(base_folder, \"TEAM_txt_ind.csv\")\n",
    "\n",
    "def readCsvFile(filepath):\n",
    "    f = codecs.open(filepath, \"r\", \"utf-16\")\n",
    "    data = dict()\n",
    "\n",
    "    #read first line\n",
    "    fstLine = f.readline()\n",
    "\n",
    "    keyList = list()\n",
    "    for i in fstLine.split(','):\n",
    "        key = str(i.replace('\"', ''))\n",
    "        keyList.append(key)\n",
    "        data[key] = list()\n",
    "    print(keyList)\n",
    "\n",
    "    # #read lines\n",
    "    # lines = f.readlines()\n",
    "    # for line in lines:\n",
    "    #     print(line)\n",
    "    #     fields = line.split(',')\n",
    "    #     for i,field in enumerate(fields):\n",
    "    #         print(keyList[i], field)\n",
    "    #     break\n",
    "\n",
    "def readCsvFile2(filename):\n",
    "    data = pd.read_csv(filename, encoding=\"utf-16\")\n",
    "    return data\n",
    "\n",
    "def printFirstKLines(filepath, k=1):\n",
    "    f = codecs.open(filepath, \"r\", \"utf-16\")\n",
    "    lines = f.readlines()\n",
    "    for i, line in enumerate(lines):\n",
    "        print(line)\n",
    "        if i > k:\n",
    "            break\n",
    "    return lines\n",
    "\n",
    "%matplotlib\n",
    "\n",
    "    "
   ]
  },
  {
   "cell_type": "code",
   "execution_count": null,
   "metadata": {
    "collapsed": true
   },
   "outputs": [],
   "source": [
    "pcData      = readCsvFile2(PC_num_ind)\n",
    "print(pcData)\n",
    "teamData    = readCsvFile2(TEAM_num_ind)"
   ]
  },
  {
   "cell_type": "code",
   "execution_count": null,
   "metadata": {
    "collapsed": true
   },
   "outputs": [],
   "source": []
  },
  {
   "cell_type": "code",
   "execution_count": null,
   "metadata": {
    "collapsed": true
   },
   "outputs": [],
   "source": []
  }
 ],
 "metadata": {
  "kernelspec": {
   "display_name": "Python [conda root]",
   "language": "python",
   "name": "conda-root-py"
  },
  "language_info": {
   "codemirror_mode": {
    "name": "ipython",
    "version": 3
   },
   "file_extension": ".py",
   "mimetype": "text/x-python",
   "name": "python",
   "nbconvert_exporter": "python",
   "pygments_lexer": "ipython3",
   "version": "3.5.3"
  }
 },
 "nbformat": 4,
 "nbformat_minor": 0
}
